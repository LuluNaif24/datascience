{
  "metadata": {
    "kernelspec": {
      "name": "python",
      "display_name": "Python (Pyodide)",
      "language": "python"
    },
    "language_info": {
      "codemirror_mode": {
        "name": "python",
        "version": 3
      },
      "file_extension": ".py",
      "mimetype": "text/x-python",
      "name": "python",
      "nbconvert_exporter": "python",
      "pygments_lexer": "ipython3",
      "version": "3.8"
    }
  },
  "nbformat_minor": 4,
  "nbformat": 4,
  "cells": [
    {
      "cell_type": "markdown",
      "source": "### Data Science tools",
      "metadata": {}
    },
    {
      "cell_type": "markdown",
      "source": "in this notebook, data science tools summry",
      "metadata": {}
    },
    {
      "cell_type": "code",
      "source": "some of the pupolar language :\n1- python\n2-R\n3-SQL",
      "metadata": {
        "trusted": true
      },
      "outputs": [],
      "execution_count": null
    },
    {
      "cell_type": "code",
      "source": "some of commonly used library\n1- Numpy\n2-keras\n3- pandas",
      "metadata": {
        "trusted": true
      },
      "outputs": [],
      "execution_count": null
    },
    {
      "cell_type": "markdown",
      "source": "|Data Science Tools|\n|---| \n|SAS|\n|Apache HAdoop|\n|TensorFlow|",
      "metadata": {}
    },
    {
      "cell_type": "markdown",
      "source": "### Below are a few Exmples:",
      "metadata": {}
    },
    {
      "cell_type": "code",
      "source": "#this is a common arithmetic example to multiply and then add integers\n(5*6)+4",
      "metadata": {
        "trusted": true
      },
      "outputs": [
        {
          "execution_count": 2,
          "output_type": "execute_result",
          "data": {
            "text/plain": "34"
          },
          "metadata": {}
        }
      ],
      "execution_count": 2
    },
    {
      "cell_type": "code",
      "source": "#this will convert 200 miny=utes to hours by divinh by 60\n200/60",
      "metadata": {
        "trusted": true
      },
      "outputs": [
        {
          "execution_count": 3,
          "output_type": "execute_result",
          "data": {
            "text/plain": "3.3333333333333335"
          },
          "metadata": {}
        }
      ],
      "execution_count": 3
    },
    {
      "cell_type": "markdown",
      "source": "__Objective__\n* List popular langues for data scince \n* list popular libraries for data science \n* list of well known data Scince tools\n* How to pri=ovide comments in the cell\n  ",
      "metadata": {}
    },
    {
      "cell_type": "markdown",
      "source": "## Author \nLulu ",
      "metadata": {}
    },
    {
      "cell_type": "code",
      "source": "",
      "metadata": {
        "trusted": true
      },
      "outputs": [],
      "execution_count": null
    }
  ]
}